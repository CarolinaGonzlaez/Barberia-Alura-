{
  "nbformat": 4,
  "nbformat_minor": 0,
  "metadata": {
    "colab": {
      "provenance": [],
      "authorship_tag": "ABX9TyNhZ8VFSpGBCl7iLdNkZ34R",
      "include_colab_link": true
    },
    "kernelspec": {
      "name": "python3",
      "display_name": "Python 3"
    },
    "language_info": {
      "name": "python"
    }
  },
  "cells": [
    {
      "cell_type": "markdown",
      "metadata": {
        "id": "view-in-github",
        "colab_type": "text"
      },
      "source": [
        "<a href=\"https://colab.research.google.com/github/CarolinaGonzlaez/Barberia-Alura-/blob/main/Eugenia_Gonzalez_TP1.ipynb\" target=\"_parent\"><img src=\"https://colab.research.google.com/assets/colab-badge.svg\" alt=\"Open In Colab\"/></a>"
      ]
    },
    {
      "cell_type": "markdown",
      "source": [
        "PINOS UTILES PARA LA FABRICA"
      ],
      "metadata": {
        "id": "1Lvl2p-PYMIQ"
      }
    },
    {
      "cell_type": "code",
      "source": [
        "def pesoPino(alturaMetros):\n",
        "  if alturaMetros <= 3:\n",
        "    return alturaMetros * 100 * 3\n",
        "#calcular el peso segun la altura del pino\n",
        "  else:\n",
        "    primerosTres = 3 * 100 * 3\n",
        "    resto = alturaMetros - 3\n",
        "    return primerosTres + resto * 100 * 2\n",
        "#calcular el peso de la altura despues de los 3 metros\n",
        "def esPesoUtil(peso):\n",
        "    return 400 <= peso <= 1000\n",
        "#para que un pino sirva  árboles de entre 400 y 1000 kilos\n",
        "\n",
        "def sirvePino(altura):\n",
        "  peso = pesoPino(altura)\n",
        "  return esPesoUtil(peso)\n",
        "\n",
        "  #cuantos meses deben pasar para que un pino sea util a la fabrica\n",
        "def mesesHastaQueSirve(altura_inicial=1.0):\n",
        "    altura = altura_inicial\n",
        "    meses = 0\n",
        "    while not sirvePino(altura):\n",
        "        print(f\"Mes {meses}: altura = {altura:.2f} m\")\n",
        "        mes_del_anio = meses % 12\n",
        "        if mes_del_anio in [11, 0, 1]:      # verano\n",
        "            altura *= 1.02\n",
        "        elif mes_del_anio not in [5, 6, 7]: # primavera/otoño\n",
        "            altura *= 1.01\n",
        "        # invierno no crece\n",
        "        meses += 1\n",
        "    print(f\"Mes {meses}: altura final = {altura:.2f} m (sirve!)\")\n",
        "    return meses\n"
      ],
      "metadata": {
        "id": "lO-nK8cUYjzs"
      },
      "execution_count": 32,
      "outputs": []
    },
    {
      "cell_type": "markdown",
      "source": [
        "print(mesesHastaQueSirve(4))"
      ],
      "metadata": {
        "id": "Eg1bHO9xpJIx"
      }
    },
    {
      "cell_type": "code",
      "source": [
        "print (esPesoUtil(300))"
      ],
      "metadata": {
        "colab": {
          "base_uri": "https://localhost:8080/"
        },
        "id": "s86srS-rtgbj",
        "outputId": "94901f1a-7574-432e-b316-8f5ec68e222d"
      },
      "execution_count": 49,
      "outputs": [
        {
          "output_type": "stream",
          "name": "stdout",
          "text": [
            "False\n"
          ]
        }
      ]
    },
    {
      "cell_type": "code",
      "source": [
        "print (esPesoUtil(600))"
      ],
      "metadata": {
        "colab": {
          "base_uri": "https://localhost:8080/"
        },
        "id": "5DnXbKeZtyUk",
        "outputId": "cc4a1dcf-0a37-4b66-c21d-685cc216356b"
      },
      "execution_count": 50,
      "outputs": [
        {
          "output_type": "stream",
          "name": "stdout",
          "text": [
            "True\n"
          ]
        }
      ]
    },
    {
      "cell_type": "code",
      "source": [
        "print (sirvePino(4))"
      ],
      "metadata": {
        "colab": {
          "base_uri": "https://localhost:8080/"
        },
        "id": "LlANSDjysIRh",
        "outputId": "5eb43bbf-835b-4244-bf10-1ebd8a531841"
      },
      "execution_count": 54,
      "outputs": [
        {
          "output_type": "stream",
          "name": "stdout",
          "text": [
            "False\n"
          ]
        }
      ]
    },
    {
      "cell_type": "code",
      "source": [
        "print (sirvePino(3))"
      ],
      "metadata": {
        "colab": {
          "base_uri": "https://localhost:8080/"
        },
        "id": "MCfV4T4muRGv",
        "outputId": "4f746438-984c-4793-df74-55beba9beb47"
      },
      "execution_count": 55,
      "outputs": [
        {
          "output_type": "stream",
          "name": "stdout",
          "text": [
            "True\n"
          ]
        }
      ]
    },
    {
      "cell_type": "code",
      "source": [
        "print (pesoPino(8))"
      ],
      "metadata": {
        "colab": {
          "base_uri": "https://localhost:8080/"
        },
        "id": "HCHEGAq3sn8E",
        "outputId": "312e5f99-ec17-4360-fbc1-4b43250fdd46"
      },
      "execution_count": 43,
      "outputs": [
        {
          "output_type": "stream",
          "name": "stdout",
          "text": [
            "1900\n"
          ]
        }
      ]
    },
    {
      "cell_type": "code",
      "source": [
        "print (mesesHastaQueSirve(1.0))"
      ],
      "metadata": {
        "colab": {
          "base_uri": "https://localhost:8080/"
        },
        "id": "XnR5URo8uZY-",
        "outputId": "54190849-945c-45b3-fbe7-c5dcb4ff37fa"
      },
      "execution_count": 56,
      "outputs": [
        {
          "output_type": "stream",
          "name": "stdout",
          "text": [
            "Mes 0: altura = 1.00 m\n",
            "Mes 1: altura = 1.02 m\n",
            "Mes 2: altura = 1.04 m\n",
            "Mes 3: altura = 1.05 m\n",
            "Mes 4: altura = 1.06 m\n",
            "Mes 5: altura = 1.07 m\n",
            "Mes 6: altura = 1.07 m\n",
            "Mes 7: altura = 1.07 m\n",
            "Mes 8: altura = 1.07 m\n",
            "Mes 9: altura = 1.08 m\n",
            "Mes 10: altura = 1.09 m\n",
            "Mes 11: altura = 1.10 m\n",
            "Mes 12: altura = 1.13 m\n",
            "Mes 13: altura = 1.15 m\n",
            "Mes 14: altura = 1.17 m\n",
            "Mes 15: altura = 1.18 m\n",
            "Mes 16: altura = 1.20 m\n",
            "Mes 17: altura = 1.21 m\n",
            "Mes 18: altura = 1.21 m\n",
            "Mes 19: altura = 1.21 m\n",
            "Mes 20: altura = 1.21 m\n",
            "Mes 21: altura = 1.22 m\n",
            "Mes 22: altura = 1.23 m\n",
            "Mes 23: altura = 1.24 m\n",
            "Mes 24: altura = 1.27 m\n",
            "Mes 25: altura = 1.29 m\n",
            "Mes 26: altura = 1.32 m\n",
            "Mes 27: altura final = 1.33 m (sirve!)\n",
            "27\n"
          ]
        }
      ]
    }
  ]
}